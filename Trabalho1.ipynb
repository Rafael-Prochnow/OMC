{
 "cells": [
  {
   "cell_type": "markdown",
   "metadata": {},
   "source": [
    "# PO 280 - Otimização Multi-Critério \n",
    "\n",
    "# Rafael Andreolli Prochnow RA176059"
   ]
  },
  {
   "cell_type": "code",
   "execution_count": 1,
   "metadata": {
    "colab": {
     "base_uri": "https://localhost:8080/"
    },
    "executionInfo": {
     "elapsed": 8550,
     "status": "ok",
     "timestamp": 1632773697098,
     "user": {
      "displayName": "Priscila Rampazzo",
      "photoUrl": "https://lh3.googleusercontent.com/a-/AOh14GhZu5dXQuOgtbBUjuLj8TW6EBRXDl9b9wiXbeGDGA=s64",
      "userId": "12665599509693914140"
     },
     "user_tz": 180
    },
    "id": "5bgLAuUQCxo1",
    "outputId": "3fde8e69-fa0d-4eff-86ef-9ea820d5f0f3"
   },
   "outputs": [],
   "source": [
    "import numpy as np\n",
    "import matplotlib.pyplot as plt\n",
    "import pandas as pd\n",
    "from pyomo.environ import *"
   ]
  },
  {
   "cell_type": "markdown",
   "metadata": {},
   "source": [
    "O problema apresentado no trabalho consistem na implementação dos métodos clássicos estudados na disciplina para encontrar quais os ativos (ações) mais adequados para investir. Métodos da Soma Ponderada, ԑ-restrito, Critério Global e Programação por Metas. \n",
    "Os dados utilizados na elaboração do trabalho foram disponibilizados pela professora. \n",
    "\n",
    "Os dados são compostos por 49 ativos no período 1 de Abril de 2019 até 31 de Março de 2020. Foi pedido que acrescentasse uma ou mais restrições ao problema, sendo assim, de forma aleatória, a soma dos os ativos 2, 9, 15, 21 e 35 deve corresponder a 30% do investimento. "
   ]
  },
  {
   "cell_type": "markdown",
   "metadata": {
    "heading_collapsed": true
   },
   "source": [
    "# Processo de leitura e processamento dos dados "
   ]
  },
  {
   "cell_type": "code",
   "execution_count": 2,
   "metadata": {
    "hidden": true
   },
   "outputs": [],
   "source": [
    "# ler as quantidades: ATIVOS e PERIODOS e a tabela de precos\n",
    "def leitura(arquivo):\n",
    "    # abre o arquivo para leitura, na aba Valores\n",
    "    ARQ = pd.read_excel(arquivo, sheet_name='Valores')\n",
    "    ATIVOS = ARQ.at[0,'Qtde']\n",
    "    PERIODOS = ARQ.at[1,'Qtde']\n",
    "    \n",
    "    # abre o arquivo para leitura, na aba Precos\n",
    "    ARQ = pd.read_excel(arquivo, sheet_name='Precos')\n",
    "    Preco = []\n",
    "    nomesAcoes = []  # apresentação final\n",
    "    for i in range(ATIVOS):  # coluna\n",
    "        nomecoluna = \"Acao\"+str(i+1)\n",
    "        PrecoI = []  \n",
    "        for t in range(PERIODOS):  # linha\n",
    "            PrecoIK = ARQ.at[t, nomecoluna]   \n",
    "            PrecoI.append(PrecoIK)   \n",
    "        Preco.append(PrecoI)   \n",
    "        \n",
    "    return ATIVOS, PERIODOS, Preco\n",
    "\n",
    "# calcular retATIVOS (para f1) e covATIVOS (para f2)\n",
    "def preProcessamento(ATIVOS, PERIODOS, Preco):\n",
    "    # criar a matriz r \n",
    "    r = []\n",
    "    for i in range (ATIVOS):        # para cada linha\n",
    "        crialinha = []        \n",
    "        for t in range (PERIODOS):  # para cada coluna\n",
    "            crialinha.append(0)     # preencho a linha com 0s em todas as colunas\n",
    "        r.append(crialinha)\n",
    "        \n",
    "    # calculo do r[i][t]    \n",
    "    for i in range (ATIVOS):\n",
    "        for t in range (1, PERIODOS): \n",
    "            r[i][t-1] = (Preco[i][t]/Preco[i][t-1]) - 1\n",
    "  \n",
    "    # criar o vetor retATIVOS\n",
    "    retATIVOS = []\n",
    "    for i in range (ATIVOS):\n",
    "        retATIVOS.append(0)  #  retATIVOS[i] = 0\n",
    "        \n",
    "    # calculo do retATIVOS[i]\n",
    "    for i in range (ATIVOS):\n",
    "        for t in range (PERIODOS-1): \n",
    "            retATIVOS[i] = retATIVOS[i] + r[i][t]  \n",
    "        retATIVOS[i] = retATIVOS[i]/(PERIODOS - 1)\n",
    "\n",
    "    # criar a matriz covATIVOS\n",
    "    covATIVOS = []\n",
    "    for i in range (ATIVOS):        # para cada linha\n",
    "        crialinha = []        \n",
    "        for j in range (ATIVOS): # para cada coluna\n",
    "            crialinha.append(0)     # preencho a linha com 0s em todas as colunas\n",
    "        covATIVOS.append(crialinha)\n",
    "        \n",
    "    # calculo de covATIVOS[i][j] \n",
    "    for i in range(ATIVOS):\n",
    "        for j in range (ATIVOS):\n",
    "            for t in range (PERIODOS):\n",
    "                covATIVOS[i][j] = covATIVOS[i][j] + (r[i][t] - retATIVOS[i])*(r[j][t] - retATIVOS[j])\n",
    "                \n",
    "    return retATIVOS, covATIVOS"
   ]
  },
  {
   "cell_type": "code",
   "execution_count": 3,
   "metadata": {},
   "outputs": [],
   "source": [
    "# leitura e preparação\n",
    "ATIVOS, PERIODOS, Preco = leitura(\"Cotacoes.xlsx\") \n",
    "retATIVOS, covATIVOS = preProcessamento(ATIVOS, PERIODOS, Preco)"
   ]
  },
  {
   "cell_type": "markdown",
   "metadata": {},
   "source": [
    "# Métrica Dispersão "
   ]
  },
  {
   "cell_type": "code",
   "execution_count": 4,
   "metadata": {},
   "outputs": [],
   "source": [
    "def metricaDispersao(saida):\n",
    "    d = [0]*len(saida)\n",
    "    i = 0\n",
    "    for ponto in saida:\n",
    "        d[i] = buscaVizinho(ponto, saida)\n",
    "        i +=1\n",
    "    dbarra = sum(d)/len(saida)\n",
    "    \n",
    "    soma= 0\n",
    "    for i in range(len(saida)):\n",
    "        soma += (dbarra - d[i])**2\n",
    "    Dispersao = np.sqrt(soma/len(saida))\n",
    "    print(f'Dispersao: {Dispersao}')\n",
    "    \n",
    "\n",
    "def buscaVizinho(pontoi, saida):\n",
    "    dist = 1000\n",
    "    for pontoj in saida:\n",
    "        if pontoj != pontoi:\n",
    "            soma = abs(pontoi[0] - pontoj[0]) + abs(pontoi[1] - pontoj[1])\n",
    "            if soma < dist:\n",
    "                dist = soma\n",
    "    return soma"
   ]
  },
  {
   "cell_type": "markdown",
   "metadata": {},
   "source": [
    "# Método das Ponderações\n",
    "\n",
    "Utilizando o Método das Ponderações visto em sala de aula, foram aplicados valores para a discretização  dos pesos nas funções objetivos entre o intervalor de 0 e 1. Foram realizadas três mudanças na frequência do intervalor para observar melhor o comportamento da discretização dos pontos na Fronteira de Pareto e posteriormente comparar com os outros métodos.\n",
    "\n",
    "A primeira frequência utilizada foi com o valor de 0.1 que corresponde a 11 soluções para o problema apresentado, segundo valor utilizado foi de 0.01 com 101 soluções e o terceiro valor foi 0.001 com 1001 soluções. Cada solução obtidas pelo Método foram representadas com um ponto em azul nas Figuras  O resultado das aplicações estão presentes nas Figura 1, 2 e 3."
   ]
  },
  {
   "cell_type": "code",
   "execution_count": 5,
   "metadata": {},
   "outputs": [],
   "source": [
    "def modelo_metodoPonderacoes(W1, W2, ATIVOS, retATIVOS, covATIVOS):\n",
    "    # Inicializa o problema p que será resolvido com o solver\n",
    "    p = ConcreteModel()\n",
    "\n",
    "    # x é uma lista de variáveis de acordo com o número de ativos \n",
    "    # NonNegativeReals = valores reais não negativos\n",
    "    p.Itens = range(ATIVOS)\n",
    "    p.x = Var(p.Itens, within=NonNegativeReals)\n",
    "\n",
    "    # declaro as restrições\n",
    "    p.rest1 = Constraint(expr = sum(p.x[i] for i in p.Itens) == 1)\n",
    "    \n",
    "    # Acrescentar uma restrição, nesse caso 30% do investimento deve corresponder as ações 2, 9, 15, 21 e 35 \n",
    "    p.rest2 = Constraint(expr = (p.x[1] + p.x[8] + p.x[14] + p.x[20] + p.x[34]) == 0.3)\n",
    "    \n",
    "    # declaro a função-objetivo\n",
    "    p.obj = Objective(expr=-W1*sum(retATIVOS[i]*p.x[i] for i in p.Itens) +\n",
    "                      W2*sum(covATIVOS[i][j]*p.x[i]*p.x[j] for i in p.Itens for j in p.Itens), sense = minimize)\n",
    "       \n",
    "    # Resolve\n",
    "    solver = SolverFactory('ipopt')\n",
    "    solver.solve(p, tee=False)\n",
    "\n",
    "    f1 = sum(retATIVOS[i]*p.x[i] for i in p.Itens)\n",
    "    f2 = sum(covATIVOS[i][j]*p.x[i]*p.x[j] for i in p.Itens for j in p.Itens)\n",
    "\n",
    "    return [f1(), f2()]"
   ]
  },
  {
   "cell_type": "code",
   "execution_count": 6,
   "metadata": {},
   "outputs": [],
   "source": [
    "# definindo a função\n",
    "def metodoPonderacoes(ATIVOS, retATIVOS, covATIVOS, dispersao= 0.1):\n",
    "    discretizacoes = np.arange(0, 1 + dispersao, dispersao) # inicio, fim-passo, passo\n",
    "    pontosf = []\n",
    "    for W1 in discretizacoes:\n",
    "        W2 = 1 - W1\n",
    "        ponto = modelo_metodoPonderacoes(W1, W2, ATIVOS, retATIVOS, covATIVOS)\n",
    "        pontosf.append(ponto)\n",
    "    return pontosf"
   ]
  },
  {
   "cell_type": "code",
   "execution_count": 7,
   "metadata": {},
   "outputs": [],
   "source": [
    "def visualizaFronteiras(saida1):\n",
    "    fig, ax = plt.subplots(figsize=(7,5))\n",
    "    plt.title(\"Fronteira de Pareto\")\n",
    "\n",
    "    for ponto in saida1:  # para cada ponto\n",
    "        plt.scatter(ponto[0], ponto[1], color = 'b', marker='+')\n",
    "\n",
    "    ax.set_xlabel('f1')\n",
    "    ax.set_ylabel('f2')\n",
    "    plt.show()"
   ]
  },
  {
   "cell_type": "code",
   "execution_count": 8,
   "metadata": {},
   "outputs": [
    {
     "name": "stdout",
     "output_type": "stream",
     "text": [
      "\n",
      "Metodo das Ponderação: \n",
      "Pontos: 11\n",
      "Dispersao: 0.0003343817756069329\n"
     ]
    },
    {
     "data": {
      "image/png": "[encoded data removed]",
      "text/plain": [
       "<Figure size 504x360 with 1 Axes>"
      ]
     },
     "metadata": {
      "needs_background": "light"
     },
     "output_type": "display_data"
    }
   ],
   "source": [
    "saida1 = metodoPonderacoes(ATIVOS, retATIVOS, covATIVOS)\n",
    "print('\\nMetodo das Ponderação: ')\n",
    "print(f'Pontos: {len(saida1)}')\n",
    "metricaDispersao(saida1)\n",
    "visualizaFronteiras(saida1)"
   ]
  },
  {
   "cell_type": "markdown",
   "metadata": {},
   "source": [
    "Na Figura 1 há um acumulo de pontos nas áreas de minimização do Lucro (Função Objetivo F1) e Risco (Função Objetivo F2), mas uma menor quantidade de pontos na maximização do Lucro e Risco, isso ocorre pois o Método de Ponderações apresenta limitações na resolução de problemas que não são convexos.\n",
    "\n",
    "Com o aumento dos pontos na Fronteira de Pareto, Figura 2 e Figura 3, podemos observar a maior dispersão dos pontos na Fronteira que proporciona melhor discretização do problema apresentado na carteira de investimentos. Mesmo com o aumento na dispersão dos pontos, há áreas que não foram localizadas pelo método na Fronteira, reforçando ainda mais a limitação do método anteriormente comentado. \n"
   ]
  },
  {
   "cell_type": "code",
   "execution_count": 9,
   "metadata": {},
   "outputs": [
    {
     "name": "stdout",
     "output_type": "stream",
     "text": [
      "\n",
      "Metodo das Ponderação: \n",
      "Pontos: 101\n",
      "Dispersao: 0.009873992330725842\n"
     ]
    },
    {
     "data": {
      "image/png": "[encoded data removed]",
      "text/plain": [
       "<Figure size 504x360 with 1 Axes>"
      ]
     },
     "metadata": {
      "needs_background": "light"
     },
     "output_type": "display_data"
    }
   ],
   "source": [
    "saida1 = metodoPonderacoes(ATIVOS, retATIVOS, covATIVOS, dispersao= 0.01)\n",
    "print('\\nMetodo das Ponderação: ')\n",
    "print(f'Pontos: {len(saida1)}')\n",
    "metricaDispersao(saida1)\n",
    "visualizaFronteiras(saida1)"
   ]
  },
  {
   "cell_type": "code",
   "execution_count": 10,
   "metadata": {},
   "outputs": [
    {
     "name": "stdout",
     "output_type": "stream",
     "text": [
      "\n",
      "Metodo das Ponderação: \n",
      "Pontos: 1001\n",
      "Dispersao: 0.016053677910650082\n"
     ]
    },
    {
     "data": {
      "image/png": "[encoded data removed]",
      "text/plain": [
       "<Figure size 504x360 with 1 Axes>"
      ]
     },
     "metadata": {
      "needs_background": "light"
     },
     "output_type": "display_data"
    }
   ],
   "source": [
    "saida1 = metodoPonderacoes(ATIVOS, retATIVOS, covATIVOS, dispersao= 0.001)\n",
    "print('\\nMetodo das Ponderação: ')\n",
    "print(f'Pontos: {len(saida1)}')\n",
    "metricaDispersao(saida1)\n",
    "visualizaFronteiras(saida1)"
   ]
  },
  {
   "cell_type": "markdown",
   "metadata": {},
   "source": [
    "# Epsilon Restrito\n",
    "\n",
    "Da mesma forma que aplicamos o Método das Ponderações variando a frequência entre o intervalor de 0 a 1, foram aplicados para o Método Epsilon Restrito, mas variando apenas a frequência para valores entre 0.1 e 0.01. A escolha de não utilizar o terceiro valor para frequência é devido a pequena alteração na dispersão entre os pontos na Fronteira de Pareto, visto que apenas esses dois valores conseguem demostrar o bem esse comportamento na Figura 4 e Figura 5. "
   ]
  },
  {
   "cell_type": "code",
   "execution_count": 11,
   "metadata": {},
   "outputs": [],
   "source": [
    "def modelo_metodoEpsilonRestrito(epsilon, ATIVOS, retATIVOS, covATIVOS):\n",
    "    # Inicializa o problema p que será resolvido com o solver\n",
    "    p = ConcreteModel()\n",
    "\n",
    "    # x é uma lista de variáveis de acordo com o número de ativos \n",
    "    # NonNegativeReals = valores reais não negativos\n",
    "    p.Itens = range(ATIVOS)\n",
    "    p.x = Var(p.Itens, within=NonNegativeReals)\n",
    "\n",
    "    # declaro as restrições\n",
    "    p.rest1 = Constraint(expr = sum(p.x[i] for i in p.Itens) == 1)\n",
    "    # pega a função dois e trasforma em restrição\n",
    "    p.rest2 = Constraint(expr = sum(covATIVOS[i][j]*p.x[i]*p.x[j] for i in p.Itens for j in p.Itens) <= epsilon )\n",
    "    # Acrescentar uma restrição, nesse caso 30% do investimento deve corresponder as ações 2, 9, 15, 21 e 35 \n",
    "    p.rest3 = Constraint(expr = (p.x[1] + p.x[8] + p.x[14] + p.x[20] + p.x[34]) == 0.3)\n",
    "\n",
    "    # declaro a função-objetivo 1\n",
    "    p.obj = Objective(expr = sum(retATIVOS[i]*p.x[i] for i in p.Itens), sense=maximize)\n",
    "\n",
    "    # Resolve\n",
    "    solver = SolverFactory('ipopt')\n",
    "    solver.solve(p, tee=False)\n",
    "\n",
    "    f1 = sum(retATIVOS[i]*p.x[i] for i in p.Itens)\n",
    "    f2 = sum(covATIVOS[i][j]*p.x[i]*p.x[j] for i in p.Itens for j in p.Itens)\n",
    "\n",
    "    return [f1(), f2()]   # retorna o ponto"
   ]
  },
  {
   "cell_type": "code",
   "execution_count": 12,
   "metadata": {},
   "outputs": [],
   "source": [
    "def metodoEpsilonRestrito(ATIVOS, retATIVOS, covATIVOS, dispersao=11):\n",
    "    [minf1, maxf2] = modelo_metodoPonderacoes(1, 0, ATIVOS, retATIVOS, covATIVOS)\n",
    "    [maxf1, minf2] = modelo_metodoPonderacoes(0, 1, ATIVOS, retATIVOS, covATIVOS)\n",
    "    epsilons = np.linspace(minf2, maxf2, dispersao)\n",
    "    pontosf = []\n",
    "    for epsilon in epsilons:\n",
    "        ponto = modelo_metodoEpsilonRestrito(epsilon, ATIVOS, retATIVOS, covATIVOS)\n",
    "        pontosf.append(ponto)\n",
    "    return pontosf"
   ]
  },
  {
   "cell_type": "code",
   "execution_count": 13,
   "metadata": {},
   "outputs": [
    {
     "name": "stdout",
     "output_type": "stream",
     "text": [
      "\n",
      "Metodo das Epsolon-restrições: \n",
      "Pontos: 11\n",
      "Dispersao: 0.08484295287425074\n"
     ]
    },
    {
     "data": {
      "image/png": "[encoded data removed]",
      "text/plain": [
       "<Figure size 504x360 with 1 Axes>"
      ]
     },
     "metadata": {
      "needs_background": "light"
     },
     "output_type": "display_data"
    }
   ],
   "source": [
    "saida2 = metodoEpsilonRestrito(ATIVOS, retATIVOS, covATIVOS)\n",
    "print('\\nMetodo das Epsolon-restrições: ')\n",
    "print(f'Pontos: {len(saida2)}')\n",
    "metricaDispersao(saida2)\n",
    "visualizaFronteiras(saida2)"
   ]
  },
  {
   "cell_type": "code",
   "execution_count": 14,
   "metadata": {},
   "outputs": [
    {
     "name": "stdout",
     "output_type": "stream",
     "text": [
      "\n",
      "Metodo das Epsolon-restrições: \n",
      "Pontos: 101\n",
      "Dispersao: 0.08151225732578707\n"
     ]
    },
    {
     "data": {
      "image/png": "[encoded data removed]",
      "text/plain": [
       "<Figure size 504x360 with 1 Axes>"
      ]
     },
     "metadata": {
      "needs_background": "light"
     },
     "output_type": "display_data"
    }
   ],
   "source": [
    "saida2 = metodoEpsilonRestrito(ATIVOS, retATIVOS, covATIVOS, dispersao=101)\n",
    "print('\\nMetodo das Epsolon-restrições: ')\n",
    "print(f'Pontos: {len(saida2)}')\n",
    "metricaDispersao(saida2)\n",
    "visualizaFronteiras(saida2)"
   ]
  },
  {
   "cell_type": "markdown",
   "metadata": {},
   "source": [
    "Diferente do Método Ponderações, observamos no Método Epsilon Restrito melhor distribuição dos pontos na Fronteira de Pareto, independente da variação da quantidade de pontos utilizados. Além disso, observasse maior acumulo de pontos na discretização na maximização do Lucro e Risco e menor discretização na minimização. Esse comportamento ocorre pois o método apresenta mais facilidade na resolução de problemas que não são convexos."
   ]
  },
  {
   "cell_type": "markdown",
   "metadata": {},
   "source": [
    "# Método Critério Global "
   ]
  },
  {
   "cell_type": "code",
   "execution_count": 15,
   "metadata": {},
   "outputs": [],
   "source": [
    "def modelo_metodoCriterioGlobal(festrela, ATIVOS, retATIVOS, covATIVOS):\n",
    "    p = ConcreteModel()\n",
    "\n",
    "    # x é uma lista de variáveis de acordo com o número de ativos \n",
    "    # NonNegativeReals = valores reais não negativos\n",
    "    p.Itens = range(ATIVOS)\n",
    "    p.x = Var(p.Itens, within=NonNegativeReals)\n",
    "\n",
    "    # declaro as restrições\n",
    "    p.rest1 = Constraint(expr = sum(p.x[i] for i in p.Itens) == 1)\n",
    "    # Acrescentar uma restrição, nesse caso 30% do investimento deve corresponder as ações 2, 9, 15, 21 e 35 \n",
    "    p.rest2 = Constraint(expr = (p.x[1] + p.x[8] + p.x[14] + p.x[20] + p.x[34]) == 0.3)\n",
    "\n",
    "    p.f1 = -(sum(retATIVOS[i]*p.x[i] for i in p.Itens))\n",
    "    p.f2 = sum(covATIVOS[i][j]*p.x[i]*p.x[j] for i in p.Itens for j in p.Itens)\n",
    "\n",
    "    # declaro a função-objetivo 1\n",
    "    p.obj = Objective(expr = sqrt((p.f1-festrela[0])**2 + (p.f2-festrela[1])**2), sense=minimize)\n",
    "\n",
    "    # Resolve\n",
    "    solver = SolverFactory('ipopt')\n",
    "    solver.solve(p, tee=False)\n",
    "\n",
    "    f1 = sum(retATIVOS[i]*p.x[i] for i in p.Itens)\n",
    "    f2 = sum(covATIVOS[i][j]*p.x[i]*p.x[j] for i in p.Itens for j in p.Itens)\n",
    "\n",
    "    return [f1(), f2()]   # retorna o ponto\n",
    "\n",
    "def metodoCriterioGlobal(ATIVOS, retATIVOS, covATIVOS):\n",
    "    [minf1, maxf2] = modelo_metodoPonderacoes(1, 0, ATIVOS, retATIVOS, covATIVOS)\n",
    "    [maxf1, minf2] = modelo_metodoPonderacoes(0, 1, ATIVOS, retATIVOS, covATIVOS)\n",
    "    festrela = [minf1, minf2]\n",
    "    ponto = modelo_metodoCriterioGlobal(festrela, ATIVOS, retATIVOS, covATIVOS)\n",
    "    return ponto, festrela"
   ]
  },
  {
   "cell_type": "code",
   "execution_count": 16,
   "metadata": {},
   "outputs": [],
   "source": [
    "def main3():\n",
    "    # leitura e preparação\n",
    "    ATIVOS, PERIODOS, Preco = leitura(\"Cotacoes.xlsx\") \n",
    "    retATIVOS, covATIVOS = preProcessamento(ATIVOS, PERIODOS, Preco)\n",
    "    saida3, festrela = metodoCriterioGlobal(ATIVOS, retATIVOS, covATIVOS)\n",
    "    print('\\nMetodo das Criterio Global: ')\n",
    "    print(f'Pontos: {len(saida3)}')\n",
    "    visualizaFronteiras3(saida3, festrela)"
   ]
  },
  {
   "cell_type": "code",
   "execution_count": 17,
   "metadata": {},
   "outputs": [],
   "source": [
    "def visualizaFronteiras3(saida3, festrela):\n",
    "    fig, ax = plt.subplots(figsize=(7,5))  # cria objeto figura e associa eixos\n",
    "    plt.title(\"Espaço dos objetivos\")\n",
    "    \n",
    "    plt.scatter(saida3[0], saida3[1], color='k', marker='o', label = \"M. Critério Global\")  \n",
    "    plt.scatter(festrela[0], festrela[1], color='r', marker='*', label = \"Solução Utópica\")   \n",
    "                            \n",
    "    ax.set_xlabel('f1')\n",
    "    ax.set_ylabel('f2')\n",
    "    plt.legend()\n",
    "    plt.show()"
   ]
  },
  {
   "cell_type": "code",
   "execution_count": 18,
   "metadata": {},
   "outputs": [
    {
     "name": "stdout",
     "output_type": "stream",
     "text": [
      "\n",
      "Metodo das Criterio Global: \n",
      "Pontos: 2\n"
     ]
    },
    {
     "data": {
      "image/png": "[encoded data removed]",
      "text/plain": [
       "<Figure size 504x360 with 1 Axes>"
      ]
     },
     "metadata": {
      "needs_background": "light"
     },
     "output_type": "display_data"
    }
   ],
   "source": [
    "main3()"
   ]
  },
  {
   "cell_type": "markdown",
   "metadata": {},
   "source": [
    "# Comparação entre os métodos das Ponderações e Epsilon Restrito "
   ]
  },
  {
   "cell_type": "code",
   "execution_count": 19,
   "metadata": {},
   "outputs": [],
   "source": [
    "def visualizaFronteiras(saida1, saida2, saida3, festrela):\n",
    "    fig, ax = plt.subplots(figsize=(10,7))  # cria objeto figura e associa eixos\n",
    "    plt.title(\"Espaço dos objetivos\")\n",
    "    \n",
    "    plt.scatter(saida1[0][0], saida1[0][1], color='b', marker='+', label = \"M.Ponderações\", s=200)\n",
    "    for ponto in saida1:\n",
    "        plt.scatter(ponto[0], ponto[1], color='b', marker='+', s=200)\n",
    "    \n",
    "    plt.scatter(saida2[0][0], saida2[0][1], color='g', marker='x', label = \"M. E-restrições\")   \n",
    "    for ponto in saida2:\n",
    "        plt.scatter(ponto[0], ponto[1], color='g', marker='x')\n",
    "                            \n",
    "    plt.scatter(saida3[0], saida3[1], color='k', marker='o', label = \"M. Critério Global\")  \n",
    "    plt.scatter(festrela[0], festrela[1], color='r', marker='*', label = \"Solução Utópica\")   \n",
    "                            \n",
    "    ax.set_xlabel('f1')\n",
    "    ax.set_ylabel('f2')\n",
    "    plt.legend()\n",
    "    # ax.set_aspect('equal')\n",
    "    plt.show()"
   ]
  },
  {
   "cell_type": "markdown",
   "metadata": {},
   "source": [
    "## Primeira comparação \n",
    "\n",
    "A comparação dos métodos permite encontrar qual o melhor método para determinado problema apresentado. Anteriormente foram apresentados separadamente cada método com mudanças na quantidades de pontos na Fronteira de Pareto, mas na Figura 6 e Figura 7 os métodos estão juntos, sendo representado pelo ponto em azul o Ponderações e em verde Epsilon Restrito. Foram acrescentados o Método do Critério Global com o ponto preto e a Solução Utópica em vermelho. "
   ]
  },
  {
   "cell_type": "code",
   "execution_count": 20,
   "metadata": {
    "executionInfo": {
     "elapsed": 252,
     "status": "ok",
     "timestamp": 1632773989380,
     "user": {
      "displayName": "Priscila Rampazzo",
      "photoUrl": "https://lh3.googleusercontent.com/a-/AOh14GhZu5dXQuOgtbBUjuLj8TW6EBRXDl9b9wiXbeGDGA=s64",
      "userId": "12665599509693914140"
     },
     "user_tz": 180
    },
    "id": "RmmpsisAU7zr"
   },
   "outputs": [
    {
     "name": "stdout",
     "output_type": "stream",
     "text": [
      "\n",
      "Metodo das Ponderação: \n",
      "Pontos: 11\n",
      "Dispersao: 0.0003343817756069329\n",
      "\n",
      "Metodo das Epsolon-restrições: \n",
      "Pontos: 11\n",
      "Dispersao: 0.08484295287425074\n",
      "11 11\n"
     ]
    },
    {
     "data": {
      "image/png": "[encoded data removed]",
      "text/plain": [
       "<Figure size 720x504 with 1 Axes>"
      ]
     },
     "metadata": {
      "needs_background": "light"
     },
     "output_type": "display_data"
    }
   ],
   "source": [
    "# chamada das demais funções dos métodos implementados\n",
    "# Ponderacoes\n",
    "saida1 = metodoPonderacoes(ATIVOS, retATIVOS, covATIVOS)\n",
    "print('\\nMetodo das Ponderação: ')\n",
    "print(f'Pontos: {len(saida1)}')\n",
    "metricaDispersao(saida1)\n",
    "# Epsilon Restricoes\n",
    "saida2 = metodoEpsilonRestrito(ATIVOS, retATIVOS, covATIVOS)\n",
    "print('\\nMetodo das Epsolon-restrições: ')\n",
    "print(f'Pontos: {len(saida2)}')\n",
    "metricaDispersao(saida2)\n",
    "# Criterio Global\n",
    "saida3, festrela = metodoCriterioGlobal(ATIVOS, retATIVOS, covATIVOS)\n",
    "\n",
    "# Gráfico \n",
    "print(len(saida1), len(saida2))\n",
    "visualizaFronteiras(saida1, saida2, saida3, festrela)"
   ]
  },
  {
   "cell_type": "markdown",
   "metadata": {},
   "source": [
    "Quando falamos de otimização multi-critério, o que queremos é encontrar na Fronteira de Pareto uma grande quantidade de soluções e espalhados de forma homogênea, porque dessa forma podemos oferecer ao decisor um conjunto de possibilidades para tomada de decisão. Esses dois método são classificador como a posteriori,  por justamente encontrar as soluções do processo de otimização do problema e em seguida o decisor atua na escolha da melhor solução desejada.\n",
    "\n",
    "O método E-Restrito apresentou melhor desempenho na discretização da Fronteira de Pareto comparado ao método da Ponderações, pois com o mesmo número de pontos foram obtidos menores índices de Dispersão entre os pontos na fronteira e menos espaços sem discretização. A melhora no desempenho do método ocorre por não precisar que a Fronteira seja convexa.\n",
    "\n",
    "O ponto em vermelho apresenta a Solução Utópica e ponto preto representa o a solução do Método do Critério Global. A distância entre esses dois pontos representa a menor distância entre qualquer outro ponto na Fronteira de Pareto.\n"
   ]
  },
  {
   "cell_type": "markdown",
   "metadata": {},
   "source": [
    "## Segunda Comparação "
   ]
  },
  {
   "cell_type": "code",
   "execution_count": 21,
   "metadata": {},
   "outputs": [
    {
     "name": "stdout",
     "output_type": "stream",
     "text": [
      "\n",
      "Metodo das Ponderação: \n",
      "Pontos: 101\n",
      "Dispersao: 0.009873992330725842\n",
      "\n",
      "Metodo das Epsolon-restrições: \n",
      "Pontos: 101\n",
      "Dispersao: 0.08151225732578707\n",
      "101 101\n"
     ]
    },
    {
     "data": {
      "image/png": "[encoded data removed]",
      "text/plain": [
       "<Figure size 720x504 with 1 Axes>"
      ]
     },
     "metadata": {
      "needs_background": "light"
     },
     "output_type": "display_data"
    }
   ],
   "source": [
    "# chamada das demais funções dos métodos implementados\n",
    "# Ponderacoes\n",
    "saida1 = metodoPonderacoes(ATIVOS, retATIVOS, covATIVOS, dispersao=0.01)\n",
    "print('\\nMetodo das Ponderação: ')\n",
    "print(f'Pontos: {len(saida1)}')\n",
    "metricaDispersao(saida1)\n",
    "# Epsilon Restricoes\n",
    "saida2 = metodoEpsilonRestrito(ATIVOS, retATIVOS, covATIVOS, dispersao=101)\n",
    "print('\\nMetodo das Epsolon-restrições: ')\n",
    "print(f'Pontos: {len(saida2)}')\n",
    "metricaDispersao(saida2)\n",
    "# Criterio Global\n",
    "saida3, festrela = metodoCriterioGlobal(ATIVOS, retATIVOS, covATIVOS)\n",
    "\n",
    "# Gráfico \n",
    "print(len(saida1), len(saida2))\n",
    "visualizaFronteiras(saida1, saida2, saida3, festrela)"
   ]
  },
  {
   "cell_type": "markdown",
   "metadata": {},
   "source": [
    "# Goal Programming (Programação por metas)\n",
    "\n",
    "\n",
    "Outro método aplicado para a carteira de investimentos é a Programação por metas que fornece apenas um resultado na solução do problema. Existem diferentes abordagens para esse método, mas foram aplicados apenas o método clássico e o Lexicographic. \n",
    "\n",
    "Com o método clássico podemos observar na Figura 8 os resultados presentes para função objetivo, os valores dos desvios negativos e positivos e qual a fração de investimento dos Ativos na quarta casa decimal (não faz sentido utilizar Ativos com resultados menores) a serem investidos para a solução. A visualização do resultado está na Figura 9."
   ]
  },
  {
   "cell_type": "code",
   "execution_count": 22,
   "metadata": {},
   "outputs": [
    {
     "name": "stdout",
     "output_type": "stream",
     "text": [
      "f1 =  0.00017916227551447112\n",
      "f2 =  0.08315000473621051\n",
      "\n",
      "p1 =  0.0\n",
      "n1 =  0.0003746097950196621\n",
      "p2 =  8.14260947537116e-06\n",
      "n2 =  0.0\n",
      "\n",
      "O primeiro objetivo é *underachieved* por:  0.0003746097950196621\n",
      "O segundo objetivo é *overachieved* por:  8.14260947537116e-06\n",
      "\n",
      "Ativo 7, investimento de 0.1763\n",
      "Ativo 9, investimento de 0.1074\n",
      "Ativo 15, investimento de 0.1926\n",
      "Ativo 34, investimento de 0.1205\n",
      "Ativo 38, investimento de 0.0619\n",
      "Ativo 42, investimento de 0.3412\n",
      "Total de Ativos investidos: 1.0000\n"
     ]
    }
   ],
   "source": [
    "ATIVOS, PERIODOS, Preco = leitura(\"Cotacoes.xlsx\")\n",
    "retATIVOS, covATIVOS = preProcessamento(ATIVOS, PERIODOS, Preco)\n",
    "\n",
    "[minf1, maxf2] = modelo_metodoPonderacoes(1, 0, ATIVOS, retATIVOS, covATIVOS)\n",
    "[maxf1, minf2] = modelo_metodoPonderacoes(0, 1, ATIVOS, retATIVOS, covATIVOS)\n",
    "\n",
    "m = ConcreteModel()\n",
    "\n",
    "# x é uma lista de variáveis de acordo com o número de ativos \n",
    "# NonNegativeReals = valores reais não negativos\n",
    "m.Itens = range(ATIVOS)\n",
    "m.x = Var(m.Itens, within=NonNegativeReals)\n",
    "\n",
    "# Desvios negativos do objetivo\n",
    "m.n1 = Var(within=NonNegativeReals)\n",
    "m.n2 = Var(within=NonNegativeReals)\n",
    "# Desvidos positivos do objetivo\n",
    "m.p1 = Var(within=NonNegativeReals)\n",
    "m.p2 = Var(within=NonNegativeReals)\n",
    "\n",
    "# declaro as restrições de acordo com as funções objetivo \n",
    "m.rest1 = Constraint(expr = sum(retATIVOS[i]*(-m.x[i]) for i in m.Itens) - m.p1 + m.n1 == maxf1)\n",
    "\n",
    "m.rest2 = Constraint(expr= sum(covATIVOS[i][j]*m.x[i]*m.x[j] for i in m.Itens for j in m.Itens) - m.p2 + m.n2 == minf2)\n",
    "\n",
    "# Restrição original do problema\n",
    "m.rest3 = Constraint(expr = sum(m.x[i] for i in m.Itens) == 1)\n",
    "\n",
    "# Acrescentar uma restrição, nesse caso 30% do investimento deve corresponder as ações 2, 9, 15, 21 e 35 \n",
    "m.rest4 = Constraint(expr = (m.x[1] + m.x[8] + m.x[14] + m.x[20] + m.x[34]) == 0.3)\n",
    "\n",
    "# função objetivo\n",
    "# F1 maximizar então o desvio indesejável é o n\n",
    "# F2 minimizar então o desvio indesejável é o p\n",
    "m.objective = Objective(expr = m.n1 + m.p2, sense=minimize)\n",
    "\n",
    "solver = SolverFactory('ipopt')\n",
    "solver.solve(m, tee=False)\n",
    "\n",
    "f1 = sum(retATIVOS[i]*m.x[i] for i in m.Itens)\n",
    "f2 = sum(covATIVOS[i][j]*m.x[i]*m.x[j] for i in m.Itens for j in m.Itens)\n",
    "\n",
    "print(\"f1 = \", f1())\n",
    "print(\"f2 = \", f2())\n",
    "print()\n",
    "print(\"p1 = \", m.p1.value)\n",
    "print(\"n1 = \", m.n1.value)\n",
    "print(\"p2 = \", m.p2.value)\n",
    "print(\"n2 = \", m.n2.value)\n",
    "print()\n",
    "\n",
    "if m.n1.value > 0:\n",
    "    print(\"O primeiro objetivo é *underachieved* por: \", m.n1.value)\n",
    "elif m.p1.value > 0:\n",
    "    print(\"O primeiro objetivo é *overachieved* por: \", m.p1.value)\n",
    "else:\n",
    "    print(\"O primeiro objetivo é totalmente satisfeito.\")\n",
    "\n",
    "if m.n2.value > 0:\n",
    "    print(\"O segundo objetivo é *underachieved* por: \", m.n2.value)\n",
    "elif m.p2.value > 0:\n",
    "    print(\"O segundo objetivo é *overachieved* por: \", m.p2.value)\n",
    "else:\n",
    "    print(\"O segundo objetivo é totalmente satisfeito.\")\n",
    "\n",
    "print()\n",
    "a = []\n",
    "for i in m.Itens:\n",
    "    a.append(m.x[i].value)\n",
    "    if m.x[i].value > 0.00001:\n",
    "        print(f\"Ativo {i+1}, investimento de {m.x[i].value:.4f}\")\n",
    "print(f'Total de Ativos investidos: {sum(a):.4f}')"
   ]
  },
  {
   "cell_type": "code",
   "execution_count": 23,
   "metadata": {},
   "outputs": [],
   "source": [
    "def visualizaGoal_P(saida1, saida2, saida3, festrela, maxf1, minf2, resu1, resu2):\n",
    "    fig, ax = plt.subplots(figsize=(10,7))  # cria objeto figura e associa eixos\n",
    "    plt.title(\"Espaço dos objetivos\")\n",
    "    \n",
    "    plt.scatter(saida1[0][0], saida1[0][1], color='b', marker='+', label = \"M.Ponderações\", s=200)\n",
    "    for ponto in saida1:\n",
    "        plt.scatter(ponto[0], ponto[1], color='b', marker='+', s=200)\n",
    "    \n",
    "    plt.scatter(saida2[0][0], saida2[0][1], color='g', marker='x', label = \"M. E-restrições\")   \n",
    "    for ponto in saida2:\n",
    "        plt.scatter(ponto[0], ponto[1], color='g', marker='x')\n",
    "                            \n",
    "    plt.scatter(saida3[0], saida3[1], color='k', marker='o', label = \"M. Critério Global\")  \n",
    "    plt.scatter(festrela[0], festrela[1], color='r', marker='*', label = \"Solução Utópica\") \n",
    "    \n",
    "    plt.plot(maxf1, minf2, \"bo\", markersize=10, label=\"alvo\") \n",
    "    plt.plot(resu1,resu2, \"ro\", markersize=10, label=\"solução GP1\") \n",
    "                            \n",
    "    ax.set_xlabel('f1')\n",
    "    ax.set_ylabel('f2')\n",
    "    plt.legend()\n",
    "    # ax.set_aspect('equal')\n",
    "    plt.show()"
   ]
  },
  {
   "cell_type": "code",
   "execution_count": 24,
   "metadata": {},
   "outputs": [
    {
     "name": "stdout",
     "output_type": "stream",
     "text": [
      "\n",
      "Metodo das Ponderação: \n",
      "Pontos: 11\n",
      "Dispersao: 0.0003343817756069329\n",
      "\n",
      "Metodo das Epsolon-restrições: \n",
      "Pontos: 11\n",
      "Dispersao: 0.08484295287425074\n",
      "11 11\n"
     ]
    },
    {
     "data": {
      "image/png": "[encoded data removed]",
      "text/plain": [
       "<Figure size 720x504 with 1 Axes>"
      ]
     },
     "metadata": {
      "needs_background": "light"
     },
     "output_type": "display_data"
    }
   ],
   "source": [
    "# chamada das demais funções dos métodos implementados\n",
    "# Ponderacoes\n",
    "saida1 = metodoPonderacoes(ATIVOS, retATIVOS, covATIVOS)\n",
    "print('\\nMetodo das Ponderação: ')\n",
    "print(f'Pontos: {len(saida1)}')\n",
    "metricaDispersao(saida1)\n",
    "# Epsilon Restricoes\n",
    "saida2 = metodoEpsilonRestrito(ATIVOS, retATIVOS, covATIVOS)\n",
    "print('\\nMetodo das Epsolon-restrições: ')\n",
    "print(f'Pontos: {len(saida2)}')\n",
    "metricaDispersao(saida2)\n",
    "# Criterio Global\n",
    "saida3, festrela = metodoCriterioGlobal(ATIVOS, retATIVOS, covATIVOS)\n",
    "\n",
    "# Gráfico \n",
    "print(len(saida1), len(saida2))\n",
    "visualizaGoal_P(saida1, saida2, saida3, festrela, maxf1, minf2, m.n1.value, m.p1.value)"
   ]
  },
  {
   "cell_type": "markdown",
   "metadata": {},
   "source": [
    "# Programação por Metas com Priorização (*Lexicographic Goal Programming* – LGP)\n",
    "\n",
    "Com o Lexicographic podemos observar na Figura 10 os resultados presentes para função objetivo, satisfazendo totalmente Primeira Função de maximização do Lucro,  com a fração de investimento dos Ativos a serem investidos para a solução e a visualização do resultado está na Figura 11."
   ]
  },
  {
   "cell_type": "code",
   "execution_count": 25,
   "metadata": {},
   "outputs": [
    {
     "name": "stdout",
     "output_type": "stream",
     "text": [
      "f1 =  -0.0001954450707874692\n",
      "f2 =  0.08615406998813367\n",
      "\n",
      "p1 =  0.0\n",
      "n1 =  0.0\n",
      "p2 =  0.0030121882200908573\n",
      "n2 =  0.0\n",
      "\n",
      "O primeiro objetivo é totalmente satisfeito.\n",
      "O segundo objetivo é *overachieved* por:  0.0030121882200908573\n",
      "Somatória dos ativos:  <generator object <genexpr> at 0x00000248C927D4A0>\n",
      "\n",
      "Ativo 1, investimento de 0.0028\n",
      "Ativo 7, investimento de 0.1403\n",
      "Ativo 9, investimento de 0.1181\n",
      "Ativo 15, investimento de 0.1819\n",
      "Ativo 25, investimento de 0.1054\n",
      "Ativo 34, investimento de 0.0175\n",
      "Ativo 38, investimento de 0.0875\n",
      "Ativo 42, investimento de 0.3465\n",
      "Total de Ativos investidos: 1.0000\n"
     ]
    }
   ],
   "source": [
    "ATIVOS, PERIODOS, Preco = leitura(\"Cotacoes.xlsx\")\n",
    "retATIVOS, covATIVOS = preProcessamento(ATIVOS, PERIODOS, Preco)\n",
    "\n",
    "[minf1, maxf2] = modelo_metodoPonderacoes(1, 0, ATIVOS, retATIVOS, covATIVOS)\n",
    "[maxf1, minf2] = modelo_metodoPonderacoes(0, 1, ATIVOS, retATIVOS, covATIVOS)\n",
    "\n",
    "m = ConcreteModel()\n",
    "\n",
    "# x é uma lista de variáveis de acordo com o número de ativos \n",
    "# NonNegativeReals = valores reais não negativos\n",
    "m.Itens = range(ATIVOS)\n",
    "m.x = Var(m.Itens, within=NonNegativeReals)\n",
    "\n",
    "# Desvios negativos do objetivo\n",
    "m.n1 = Var(within=NonNegativeReals)\n",
    "m.n2 = Var(within=NonNegativeReals)\n",
    "# Desvidos positivos do objetivo\n",
    "m.p1 = Var(within=NonNegativeReals)\n",
    "m.p2 = Var(within=NonNegativeReals)\n",
    "\n",
    "# declaro as restrições de acordo com as funções objetivo \n",
    "m.rest1 = Constraint(expr = sum(retATIVOS[i]*(-m.x[i]) for i in m.Itens) - m.p1 + m.n1 == maxf1)\n",
    "\n",
    "m.rest2 = Constraint(expr= sum(covATIVOS[i][j]*m.x[i]*m.x[j] for i in m.Itens for j in m.Itens) - m.p2 + m.n2 == minf2)\n",
    "\n",
    "# Restrição original do problema\n",
    "m.rest3 = Constraint(expr = sum(m.x[i] for i in m.Itens) == 1)\n",
    "\n",
    "# Acrescentar uma restrição, nesse caso 30% do investimento deve corresponder as ações 2, 9, 15, 21 e 35 \n",
    "m.rest4 = Constraint(expr = (m.x[1] + m.x[8] + m.x[14] + m.x[20] + m.x[34]) == 0.3)\n",
    "\n",
    "# função objetivo\n",
    "# F1 maximizar então o desvio indesejável é o n\n",
    "# F2 minimizar então o desvio indesejável é o p\n",
    "m.obj_level1 = Objective(expr = m.n1, sense=minimize)\n",
    "m.obj_level2 = Objective(expr = m.p2, sense=minimize)\n",
    "\n",
    "# Define a função-objetivo do primeiro nível de priorização\n",
    "m.obj_level1.activate()\n",
    "m.obj_level2.deactivate()\n",
    "\n",
    "# Resolve o problema GP no primeiro nível de priorização \n",
    "solver.solve(m)\n",
    "\n",
    "# Fixa o valor do primeiro nível de priorização \n",
    "valor_n1 = m.n1.value  # valor do desvio indesejável para f1\n",
    "\n",
    "# Define a função-objetivo do segundo nível de priorização\n",
    "m.obj_level1.deactivate()\n",
    "m.obj_level2.activate()\n",
    "\n",
    "# Adiciona uma restrição para o primeiro nível de priorização \n",
    "m.rest5 = Constraint(expr = m.n1 == valor_n1)\n",
    "\n",
    "# Resolve o problema GP no segundo nível de priorização \n",
    "solver.solve(m)\n",
    "\n",
    "f1 = sum(retATIVOS[i]*m.x[i] for i in m.Itens)\n",
    "f2 = sum(covATIVOS[i][j]*m.x[i]*m.x[j] for i in m.Itens for j in m.Itens)\n",
    "\n",
    "print(\"f1 = \", f1())\n",
    "print(\"f2 = \", f2())\n",
    "print()\n",
    "print(\"p1 = \", m.p1.value)\n",
    "print(\"n1 = \", m.n1.value)\n",
    "print(\"p2 = \", m.p2.value)\n",
    "print(\"n2 = \", m.n2.value)\n",
    "print()\n",
    "\n",
    "if m.n1.value > 0:\n",
    "    print(\"O primeiro objetivo é *underachieved* por: \", m.n1.value)\n",
    "elif m.p1.value > 0:\n",
    "    print(\"O primeiro objetivo é *overachieved* por: \", m.p1.value)\n",
    "else:\n",
    "    print(\"O primeiro objetivo é totalmente satisfeito.\")\n",
    "\n",
    "if m.n2.value > 0:\n",
    "    print(\"O segundo objetivo é *underachieved* por: \", m.n2.value)\n",
    "elif m.p2.value > 0:\n",
    "    print(\"O segundo objetivo é *overachieved* por: \", m.p2.value)\n",
    "else:\n",
    "    print(\"O segundo objetivo é totalmente satisfeito.\")\n",
    "\n",
    "print('Somatória dos ativos: ', (m.x[i].value for i in m.Itens))\n",
    "\n",
    "print()\n",
    "a = []\n",
    "for i in m.Itens:\n",
    "    a.append(m.x[i].value)\n",
    "    if m.x[i].value > 0.00001:\n",
    "        print(f\"Ativo {i+1}, investimento de {m.x[i].value:.4f}\")\n",
    "print(f'Total de Ativos investidos: {sum(a):.4f}')"
   ]
  },
  {
   "cell_type": "code",
   "execution_count": 26,
   "metadata": {},
   "outputs": [
    {
     "name": "stdout",
     "output_type": "stream",
     "text": [
      "\n",
      "Metodo das Ponderação: \n",
      "Pontos: 11\n",
      "Dispersao: 0.0003343817756069329\n",
      "\n",
      "Metodo das Epsolon-restrições: \n",
      "Pontos: 11\n",
      "Dispersao: 0.08484295287425074\n",
      "11 11\n"
     ]
    },
    {
     "data": {
      "image/png": "[encoded data removed]",
      "text/plain": [
       "<Figure size 720x504 with 1 Axes>"
      ]
     },
     "metadata": {
      "needs_background": "light"
     },
     "output_type": "display_data"
    }
   ],
   "source": [
    "# chamada das demais funções dos métodos implementados\n",
    "# Ponderacoes\n",
    "saida1 = metodoPonderacoes(ATIVOS, retATIVOS, covATIVOS)\n",
    "print('\\nMetodo das Ponderação: ')\n",
    "print(f'Pontos: {len(saida1)}')\n",
    "metricaDispersao(saida1)\n",
    "# Epsilon Restricoes\n",
    "saida2 = metodoEpsilonRestrito(ATIVOS, retATIVOS, covATIVOS)\n",
    "print('\\nMetodo das Epsolon-restrições: ')\n",
    "print(f'Pontos: {len(saida2)}')\n",
    "metricaDispersao(saida2)\n",
    "# Criterio Global\n",
    "saida3, festrela = metodoCriterioGlobal(ATIVOS, retATIVOS, covATIVOS)\n",
    "\n",
    "# Gráfico \n",
    "print(len(saida1), len(saida2))\n",
    "visualizaGoal_P(saida1, saida2, saida3, festrela, maxf1, minf2, m.n1.value, m.p1.value)"
   ]
  },
  {
   "cell_type": "markdown",
   "metadata": {},
   "source": [
    "#  Satisfazendo totalmente Segunda Função de maximização do Lucro\n",
    "\n",
    "Com o Lexicographic podemos observar na Figura 12 os resultados presentes para função objetivo, satisfazendo totalmente Segunda Função de Minimização do Risco, com a fração de investimento dos Ativos a serem investidos para a solução e a visualização do resultado está na Figura 13."
   ]
  },
  {
   "cell_type": "code",
   "execution_count": 27,
   "metadata": {},
   "outputs": [
    {
     "name": "stdout",
     "output_type": "stream",
     "text": [
      "f1 =  0.00019353591786927944\n",
      "f2 =  0.08314195204355741\n",
      "\n",
      "p1 =  0.0\n",
      "n1 =  0.00038898195700626026\n",
      "p2 =  0.0\n",
      "n2 =  0.0\n",
      "\n",
      "O primeiro objetivo é *underachieved* por:  0.00038898195700626026\n",
      "O segundo objetivo é totalmente satisfeito.\n",
      "\n",
      "Ativo 7, investimento de 0.1743\n",
      "Ativo 9, investimento de 0.1073\n",
      "Ativo 15, investimento de 0.1927\n",
      "Ativo 34, investimento de 0.1275\n",
      "Ativo 38, investimento de 0.0591\n",
      "Ativo 42, investimento de 0.3392\n",
      "Total de Ativos investidos: 1.0000\n"
     ]
    }
   ],
   "source": [
    "ATIVOS, PERIODOS, Preco = leitura(\"Cotacoes.xlsx\")\n",
    "retATIVOS, covATIVOS = preProcessamento(ATIVOS, PERIODOS, Preco)\n",
    "\n",
    "[minf1, maxf2] = modelo_metodoPonderacoes(1, 0, ATIVOS, retATIVOS, covATIVOS)\n",
    "[maxf1, minf2] = modelo_metodoPonderacoes(0, 1, ATIVOS, retATIVOS, covATIVOS)\n",
    "\n",
    "m = ConcreteModel()\n",
    "\n",
    "# x é uma lista de variáveis de acordo com o número de ativos \n",
    "# NonNegativeReals = valores reais não negativos\n",
    "m.Itens = range(ATIVOS)\n",
    "m.x = Var(m.Itens, within=NonNegativeReals)\n",
    "\n",
    "# Desvios negativos do objetivo\n",
    "m.n1 = Var(within=NonNegativeReals)\n",
    "m.n2 = Var(within=NonNegativeReals)\n",
    "# Desvidos positivos do objetivo\n",
    "m.p1 = Var(within=NonNegativeReals)\n",
    "m.p2 = Var(within=NonNegativeReals)\n",
    "\n",
    "# declaro as restrições de acordo com as funções objetivo \n",
    "m.rest1 = Constraint(expr = sum(retATIVOS[i]*(-m.x[i]) for i in m.Itens) - m.p1 + m.n1 == maxf1)\n",
    "\n",
    "m.rest2 = Constraint(expr= sum(covATIVOS[i][j]*m.x[i]*m.x[j] for i in m.Itens for j in m.Itens) - m.p2 + m.n2 == minf2)\n",
    "\n",
    "# Restrição original do problema\n",
    "m.rest3 = Constraint(expr = sum(m.x[i] for i in m.Itens) == 1)\n",
    "\n",
    "# Acrescentar uma restrição, nesse caso 30% do investimento deve corresponder as ações 2, 9, 15, 21 e 35 \n",
    "m.rest4 = Constraint(expr = (m.x[1] + m.x[8] + m.x[14] + m.x[20] + m.x[34]) == 0.3)\n",
    "\n",
    "# função objetivo\n",
    "# F1 maximizar então o desvio indesejável é o n\n",
    "# F2 minimizar então o desvio indesejável é o p\n",
    "m.obj_level1 = Objective(expr = m.n1, sense=minimize)\n",
    "m.obj_level2 = Objective(expr = m.p2, sense=minimize)\n",
    "\n",
    "# Define a função-objetivo do primeiro nível de priorização\n",
    "m.obj_level1.deactivate()\n",
    "m.obj_level2.activate()\n",
    "\n",
    "# Resolve o problema GP no primeiro nível de priorização \n",
    "solver.solve(m)\n",
    "\n",
    "# Fixa o valor do primeiro nível de priorização \n",
    "valor_p2 = m.p2.value  # valor do desvio indesejável para f1\n",
    "\n",
    "# Define a função-objetivo do segundo nível de priorização\n",
    "m.obj_level1.activate()\n",
    "m.obj_level2.deactivate()\n",
    "\n",
    "# Adiciona uma restrição para o primeiro nível de priorização \n",
    "m.rest5 = Constraint(expr = m.p2 == valor_p2)\n",
    "\n",
    "# Resolve o problema GP no segundo nível de priorização \n",
    "solver.solve(m)\n",
    "\n",
    "f1 = sum(retATIVOS[i]*m.x[i] for i in m.Itens)\n",
    "f2 = sum(covATIVOS[i][j]*m.x[i]*m.x[j] for i in m.Itens for j in m.Itens)\n",
    "\n",
    "print(\"f1 = \", f1())\n",
    "print(\"f2 = \", f2())\n",
    "print()\n",
    "print(\"p1 = \", m.p1.value)\n",
    "print(\"n1 = \", m.n1.value)\n",
    "print(\"p2 = \", m.p2.value)\n",
    "print(\"n2 = \", m.n2.value)\n",
    "print()\n",
    "\n",
    "if m.n1.value > 0:\n",
    "    print(\"O primeiro objetivo é *underachieved* por: \", m.n1.value)\n",
    "elif m.p1.value > 0:\n",
    "    print(\"O primeiro objetivo é *overachieved* por: \", m.p1.value)\n",
    "else:\n",
    "    print(\"O primeiro objetivo é totalmente satisfeito.\")\n",
    "\n",
    "if m.n2.value > 0:\n",
    "    print(\"O segundo objetivo é *underachieved* por: \", m.n2.value)\n",
    "elif m.p2.value > 0:\n",
    "    print(\"O segundo objetivo é *overachieved* por: \", m.p2.value)\n",
    "else:\n",
    "    print(\"O segundo objetivo é totalmente satisfeito.\")\n",
    "\n",
    "print()\n",
    "a = []\n",
    "for i in m.Itens:\n",
    "    a.append(m.x[i].value)\n",
    "    if m.x[i].value > 0.00001:\n",
    "        print(f\"Ativo {i+1}, investimento de {m.x[i].value:.4f}\")\n",
    "print(f'Total de Ativos investidos: {sum(a):.4f}')"
   ]
  },
  {
   "cell_type": "code",
   "execution_count": 28,
   "metadata": {},
   "outputs": [
    {
     "name": "stdout",
     "output_type": "stream",
     "text": [
      "\n",
      "Metodo das Ponderação: \n",
      "Pontos: 11\n",
      "Dispersao: 0.0003343817756069329\n",
      "\n",
      "Metodo das Epsolon-restrições: \n",
      "Pontos: 11\n",
      "Dispersao: 0.08484295287425074\n",
      "11 11\n"
     ]
    },
    {
     "data": {
      "image/png": "[encoded data removed]",
      "text/plain": [
       "<Figure size 720x504 with 1 Axes>"
      ]
     },
     "metadata": {
      "needs_background": "light"
     },
     "output_type": "display_data"
    }
   ],
   "source": [
    "# chamada das demais funções dos métodos implementados\n",
    "# Ponderacoes\n",
    "saida1 = metodoPonderacoes(ATIVOS, retATIVOS, covATIVOS)\n",
    "print('\\nMetodo das Ponderação: ')\n",
    "print(f'Pontos: {len(saida1)}')\n",
    "metricaDispersao(saida1)\n",
    "# Epsilon Restricoes\n",
    "saida2 = metodoEpsilonRestrito(ATIVOS, retATIVOS, covATIVOS)\n",
    "print('\\nMetodo das Epsolon-restrições: ')\n",
    "print(f'Pontos: {len(saida2)}')\n",
    "metricaDispersao(saida2)\n",
    "# Criterio Global\n",
    "saida3, festrela = metodoCriterioGlobal(ATIVOS, retATIVOS, covATIVOS)\n",
    "\n",
    "# Gráfico \n",
    "print(len(saida1), len(saida2))\n",
    "visualizaGoal_P(saida1, saida2, saida3, festrela, maxf1, minf2, m.n1.value, m.p1.value)"
   ]
  },
  {
   "cell_type": "markdown",
   "metadata": {},
   "source": [
    "Utilizando o método Goal Programming com abordagem Lexicographic encontramos os valores para cada função objetivo com diferentes tipos de prioridade, seja na maximização do lucro ou na minimização do risco. Esse método é classificado com a priori, ou seja, diferente dos dois métodos aplicados anteriormente em que o decisor recebe uma grande quantidade de soluções para posteriormente decidir qual Ativo investir, o método Goal Programming fornece apenas uma solução para o decisor. "
   ]
  },
  {
   "cell_type": "code",
   "execution_count": null,
   "metadata": {},
   "outputs": [],
   "source": []
  }
 ],
 "metadata": {
  "colab": {
   "collapsed_sections": [],
   "name": "Trabalho.ipynb",
   "provenance": []
  },
  "kernelspec": {
   "display_name": "Python 3",
   "language": "python",
   "name": "python3"
  },
  "language_info": {
   "codemirror_mode": {
    "name": "ipython",
    "version": 3
   },
   "file_extension": ".py",
   "mimetype": "text/x-python",
   "name": "python",
   "nbconvert_exporter": "python",
   "pygments_lexer": "ipython3",
   "version": "3.8.8"
  },
  "varInspector": {
   "cols": {
    "lenName": 16,
    "lenType": 16,
    "lenVar": 40
   },
   "kernels_config": {
    "python": {
     "delete_cmd_postfix": "",
     "delete_cmd_prefix": "del ",
     "library": "var_list.py",
     "varRefreshCmd": "print(var_dic_list())"
    },
    "r": {
     "delete_cmd_postfix": ") ",
     "delete_cmd_prefix": "rm(",
     "library": "var_list.r",
     "varRefreshCmd": "cat(var_dic_list()) "
    }
   },
   "types_to_exclude": [
    "module",
    "function",
    "builtin_function_or_method",
    "instance",
    "_Feature"
   ],
   "window_display": false
  }
 },
 "nbformat": 4,
 "nbformat_minor": 1
}
